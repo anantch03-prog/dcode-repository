{
  "nbformat": 4,
  "nbformat_minor": 0,
  "metadata": {
    "colab": {
      "provenance": []
    },
    "kernelspec": {
      "name": "python3",
      "display_name": "Python 3"
    },
    "language_info": {
      "name": "python"
    }
  },
  "cells": [
    {
      "cell_type": "code",
      "source": [
        "import pandas as pd\n",
        "import numpy as np\n",
        "from sklearn.model_selection import train_test_split\n",
        "from sklearn.metrics import mean_absolute_error, mean_squared_error, r2_score\n",
        "from catboost import CatBoostRegressor\n",
        "import datetime\n",
        "\n",
        "\n",
        "df = pd.read_csv('used_cars_simplified.csv')\n",
        "\n",
        "\n",
        "if 'model' in df.columns:\n",
        "    df = df.drop(columns=['model'])\n",
        "\n",
        "\n",
        "df['milage'] = df['milage'].astype(str).str.replace(',', '', regex=False)\n",
        "df['milage'] = df['milage'].str.replace('mi.', '', regex=False)\n",
        "df['milage'] = df['milage'].str.replace('miles', '', regex=False)\n",
        "df['milage'] = df['milage'].str.replace('mi', '', regex=False)\n",
        "df['milage'] = df['milage'].str.strip()\n",
        "df['milage'] = pd.to_numeric(df['milage'], errors='coerce')\n",
        "\n",
        "\n",
        "df['price'] = df['price'].astype(str).str.replace('$', '', regex=False)\n",
        "df['price'] = df['price'].str.replace(',', '', regex=False)\n",
        "df['price'] = df['price'].str.strip()\n",
        "df['price'] = pd.to_numeric(df['price'], errors='coerce')\n",
        "\n",
        "\n",
        "for col in ['model_year', 'engine_displacement_l', 'engine_cylinders']:\n",
        "    if col in df.columns:\n",
        "        df[col] = pd.to_numeric(df[col], errors='coerce')\n",
        "\n",
        "\n",
        "categorical_cols = [col for col in df.columns if df[col].dtype == 'object']\n",
        "for col in categorical_cols:\n",
        "    df[col] = df[col].fillna('missing')\n",
        "\n",
        "\n",
        "price_q_low = df['price'].quantile(0.01)\n",
        "price_q_high = df['price'].quantile(0.99)\n",
        "milage_q_low = df['milage'].quantile(0.01)\n",
        "milage_q_high = df['milage'].quantile(0.99)\n",
        "df = df[(df['price'] >= price_q_low) & (df['price'] <= price_q_high)]\n",
        "df = df[(df['milage'] >= milage_q_low) & (df['milage'] <= milage_q_high)]\n",
        "df = df.dropna(subset=['price'])\n",
        "current_year = datetime.datetime.now().year\n",
        "\n",
        "\n",
        "df['car_age'] = current_year - df['model_year']\n",
        "df['price_log'] = np.log1p(df['price'])\n",
        "X = df.drop(['price', 'price_log'], axis=1)\n",
        "y = df['price_log']\n",
        "X_train, X_test, y_train, y_test = train_test_split(X, y, test_size=0.2, random_state=42)\n",
        "categorical_features = [col for col in X.columns if X[col].dtype == 'object']\n",
        "\n",
        "model = CatBoostRegressor(\n",
        "    iterations=1000,\n",
        "    learning_rate=0.05,\n",
        "    depth=8,\n",
        "    eval_metric='R2',\n",
        "    random_seed=42,\n",
        "    cat_features=categorical_features,\n",
        "    verbose=100\n",
        ")\n",
        "model.fit(X_train, y_train, eval_set=(X_test, y_test), use_best_model=True)\n",
        "\n",
        "y_pred_log = model.predict(X_test)\n",
        "y_pred = np.expm1(y_pred_log)\n",
        "y_true = np.expm1(y_test)\n",
        "mae = mean_absolute_error(y_true, y_pred)\n",
        "mse = mean_squared_error(y_true, y_pred)\n",
        "r2 = r2_score(y_true, y_pred)\n",
        "print(f\"Mean Absolute Error: {mae:.2f}\")\n",
        "print(f\"Mean Squared Error: {mse:.2f}\")\n",
        "print(f\"R-squared: {r2:.4f}\")\n"
      ],
      "metadata": {
        "colab": {
          "base_uri": "https://localhost:8080/"
        },
        "id": "WRz_t-DClIuR",
        "outputId": "8708525d-a73c-46da-95ce-b33a60b37673"
      },
      "execution_count": 14,
      "outputs": [
        {
          "output_type": "stream",
          "name": "stdout",
          "text": [
            "0:\tlearn: 0.0610500\ttest: 0.0585040\tbest: 0.0585040 (0)\ttotal: 16.3ms\tremaining: 16.2s\n",
            "100:\tlearn: 0.8524421\ttest: 0.8140291\tbest: 0.8140757 (99)\ttotal: 1.32s\tremaining: 11.8s\n",
            "200:\tlearn: 0.8855146\ttest: 0.8292187\tbest: 0.8292187 (200)\ttotal: 2.62s\tremaining: 10.4s\n",
            "300:\tlearn: 0.9060949\ttest: 0.8362151\tbest: 0.8363954 (291)\ttotal: 3.97s\tremaining: 9.23s\n",
            "400:\tlearn: 0.9223016\ttest: 0.8394363\tbest: 0.8394724 (399)\ttotal: 5.31s\tremaining: 7.93s\n",
            "500:\tlearn: 0.9341599\ttest: 0.8418657\tbest: 0.8418903 (499)\ttotal: 7.03s\tremaining: 7s\n",
            "600:\tlearn: 0.9421979\ttest: 0.8429077\tbest: 0.8429594 (589)\ttotal: 9.54s\tremaining: 6.33s\n",
            "700:\tlearn: 0.9492305\ttest: 0.8441232\tbest: 0.8441429 (698)\ttotal: 11s\tremaining: 4.68s\n",
            "800:\tlearn: 0.9560746\ttest: 0.8447581\tbest: 0.8447581 (800)\ttotal: 12.4s\tremaining: 3.08s\n",
            "900:\tlearn: 0.9616897\ttest: 0.8455992\tbest: 0.8457361 (893)\ttotal: 13.8s\tremaining: 1.51s\n",
            "999:\tlearn: 0.9656903\ttest: 0.8460735\tbest: 0.8460735 (999)\ttotal: 15.2s\tremaining: 0us\n",
            "\n",
            "bestTest = 0.8460735251\n",
            "bestIteration = 999\n",
            "\n",
            "Mean Absolute Error: 8094.08\n",
            "Mean Squared Error: 217404465.79\n",
            "R-squared: 0.7776\n"
          ]
        }
      ]
    },
    {
      "cell_type": "code",
      "source": [
        "pip install optuna xgboost"
      ],
      "metadata": {
        "colab": {
          "base_uri": "https://localhost:8080/"
        },
        "id": "JiKwMNJOkHpw",
        "outputId": "46e9d82b-f6aa-4239-d6a2-cc24c031c686"
      },
      "execution_count": 8,
      "outputs": [
        {
          "output_type": "stream",
          "name": "stdout",
          "text": [
            "Collecting optuna\n",
            "  Downloading optuna-4.5.0-py3-none-any.whl.metadata (17 kB)\n",
            "Requirement already satisfied: xgboost in /usr/local/lib/python3.12/dist-packages (3.0.5)\n",
            "Requirement already satisfied: alembic>=1.5.0 in /usr/local/lib/python3.12/dist-packages (from optuna) (1.16.5)\n",
            "Collecting colorlog (from optuna)\n",
            "  Downloading colorlog-6.9.0-py3-none-any.whl.metadata (10 kB)\n",
            "Requirement already satisfied: numpy in /usr/local/lib/python3.12/dist-packages (from optuna) (2.0.2)\n",
            "Requirement already satisfied: packaging>=20.0 in /usr/local/lib/python3.12/dist-packages (from optuna) (25.0)\n",
            "Requirement already satisfied: sqlalchemy>=1.4.2 in /usr/local/lib/python3.12/dist-packages (from optuna) (2.0.43)\n",
            "Requirement already satisfied: tqdm in /usr/local/lib/python3.12/dist-packages (from optuna) (4.67.1)\n",
            "Requirement already satisfied: PyYAML in /usr/local/lib/python3.12/dist-packages (from optuna) (6.0.2)\n",
            "Requirement already satisfied: nvidia-nccl-cu12 in /usr/local/lib/python3.12/dist-packages (from xgboost) (2.27.3)\n",
            "Requirement already satisfied: scipy in /usr/local/lib/python3.12/dist-packages (from xgboost) (1.16.2)\n",
            "Requirement already satisfied: Mako in /usr/local/lib/python3.12/dist-packages (from alembic>=1.5.0->optuna) (1.3.10)\n",
            "Requirement already satisfied: typing-extensions>=4.12 in /usr/local/lib/python3.12/dist-packages (from alembic>=1.5.0->optuna) (4.15.0)\n",
            "Requirement already satisfied: greenlet>=1 in /usr/local/lib/python3.12/dist-packages (from sqlalchemy>=1.4.2->optuna) (3.2.4)\n",
            "Requirement already satisfied: MarkupSafe>=0.9.2 in /usr/local/lib/python3.12/dist-packages (from Mako->alembic>=1.5.0->optuna) (3.0.2)\n",
            "Downloading optuna-4.5.0-py3-none-any.whl (400 kB)\n",
            "\u001b[2K   \u001b[90m━━━━━━━━━━━━━━━━━━━━━━━━━━━━━━━━━━━━━━━━\u001b[0m \u001b[32m400.9/400.9 kB\u001b[0m \u001b[31m14.9 MB/s\u001b[0m eta \u001b[36m0:00:00\u001b[0m\n",
            "\u001b[?25hDownloading colorlog-6.9.0-py3-none-any.whl (11 kB)\n",
            "Installing collected packages: colorlog, optuna\n",
            "Successfully installed colorlog-6.9.0 optuna-4.5.0\n"
          ]
        }
      ]
    },
    {
      "cell_type": "code",
      "source": [
        "pip install catboost\n"
      ],
      "metadata": {
        "colab": {
          "base_uri": "https://localhost:8080/"
        },
        "id": "pPCjVfCylTJs",
        "outputId": "bc732041-070d-4d5d-9b4e-8dbb84372931"
      },
      "execution_count": 11,
      "outputs": [
        {
          "output_type": "stream",
          "name": "stdout",
          "text": [
            "Collecting catboost\n",
            "  Downloading catboost-1.2.8-cp312-cp312-manylinux2014_x86_64.whl.metadata (1.2 kB)\n",
            "Requirement already satisfied: graphviz in /usr/local/lib/python3.12/dist-packages (from catboost) (0.21)\n",
            "Requirement already satisfied: matplotlib in /usr/local/lib/python3.12/dist-packages (from catboost) (3.10.0)\n",
            "Requirement already satisfied: numpy<3.0,>=1.16.0 in /usr/local/lib/python3.12/dist-packages (from catboost) (2.0.2)\n",
            "Requirement already satisfied: pandas>=0.24 in /usr/local/lib/python3.12/dist-packages (from catboost) (2.2.2)\n",
            "Requirement already satisfied: scipy in /usr/local/lib/python3.12/dist-packages (from catboost) (1.16.2)\n",
            "Requirement already satisfied: plotly in /usr/local/lib/python3.12/dist-packages (from catboost) (5.24.1)\n",
            "Requirement already satisfied: six in /usr/local/lib/python3.12/dist-packages (from catboost) (1.17.0)\n",
            "Requirement already satisfied: python-dateutil>=2.8.2 in /usr/local/lib/python3.12/dist-packages (from pandas>=0.24->catboost) (2.9.0.post0)\n",
            "Requirement already satisfied: pytz>=2020.1 in /usr/local/lib/python3.12/dist-packages (from pandas>=0.24->catboost) (2025.2)\n",
            "Requirement already satisfied: tzdata>=2022.7 in /usr/local/lib/python3.12/dist-packages (from pandas>=0.24->catboost) (2025.2)\n",
            "Requirement already satisfied: contourpy>=1.0.1 in /usr/local/lib/python3.12/dist-packages (from matplotlib->catboost) (1.3.3)\n",
            "Requirement already satisfied: cycler>=0.10 in /usr/local/lib/python3.12/dist-packages (from matplotlib->catboost) (0.12.1)\n",
            "Requirement already satisfied: fonttools>=4.22.0 in /usr/local/lib/python3.12/dist-packages (from matplotlib->catboost) (4.60.0)\n",
            "Requirement already satisfied: kiwisolver>=1.3.1 in /usr/local/lib/python3.12/dist-packages (from matplotlib->catboost) (1.4.9)\n",
            "Requirement already satisfied: packaging>=20.0 in /usr/local/lib/python3.12/dist-packages (from matplotlib->catboost) (25.0)\n",
            "Requirement already satisfied: pillow>=8 in /usr/local/lib/python3.12/dist-packages (from matplotlib->catboost) (11.3.0)\n",
            "Requirement already satisfied: pyparsing>=2.3.1 in /usr/local/lib/python3.12/dist-packages (from matplotlib->catboost) (3.2.4)\n",
            "Requirement already satisfied: tenacity>=6.2.0 in /usr/local/lib/python3.12/dist-packages (from plotly->catboost) (8.5.0)\n",
            "Downloading catboost-1.2.8-cp312-cp312-manylinux2014_x86_64.whl (99.2 MB)\n",
            "\u001b[2K   \u001b[90m━━━━━━━━━━━━━━━━━━━━━━━━━━━━━━━━━━━━━━━━\u001b[0m \u001b[32m99.2/99.2 MB\u001b[0m \u001b[31m8.6 MB/s\u001b[0m eta \u001b[36m0:00:00\u001b[0m\n",
            "\u001b[?25hInstalling collected packages: catboost\n",
            "Successfully installed catboost-1.2.8\n"
          ]
        }
      ]
    },
    {
      "cell_type": "code",
      "source": [],
      "metadata": {
        "id": "0NpFdwlSlTly"
      },
      "execution_count": null,
      "outputs": []
    }
  ]
}